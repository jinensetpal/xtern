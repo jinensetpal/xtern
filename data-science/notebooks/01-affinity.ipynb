{
 "cells": [
  {
   "cell_type": "markdown",
   "id": "68bef979",
   "metadata": {},
   "source": [
    "# Cluster Analytics for Optimal Workspace Convergence"
   ]
  },
  {
   "cell_type": "markdown",
   "id": "51188cac",
   "metadata": {},
   "source": [
    "## Imports"
   ]
  },
  {
   "cell_type": "code",
   "execution_count": 1,
   "id": "370c5a19",
   "metadata": {},
   "outputs": [],
   "source": [
    "from sklearn.cluster import AffinityPropagation\n",
    "import matplotlib.pyplot as plt\n",
    "from itertools import cycle\n",
    "from pathlib import Path\n",
    "import tensorflow as tf\n",
    "import pandas as pd\n",
    "import requests\n",
    "import os"
   ]
  },
  {
   "cell_type": "markdown",
   "id": "20b9e602",
   "metadata": {},
   "source": [
    "## const"
   ]
  },
  {
   "cell_type": "code",
   "execution_count": 2,
   "id": "34a9d05d",
   "metadata": {},
   "outputs": [],
   "source": [
    "BASE_DIR = Path(os.getcwd()).resolve().parents[0]"
   ]
  },
  {
   "cell_type": "markdown",
   "id": "be5abdf3",
   "metadata": {},
   "source": [
    "## Dataset Preprocessing\n",
    "\n",
    "So far, we have initialized path variables and imported necessary packages to run our cluster analysis. We will further optimize the dataset, add additionally information using Google Maps' Distrance Matrix API and run the AffinityPropagation model to obtain the ideal location for a workspace."
   ]
  },
  {
   "cell_type": "code",
   "execution_count": 3,
   "id": "93871cc4",
   "metadata": {},
   "outputs": [],
   "source": [
    "df = pd.read_csv(str(BASE_DIR) + \"/data/raw/xtern.csv\")"
   ]
  },
  {
   "cell_type": "code",
   "execution_count": 4,
   "id": "7f1775a6",
   "metadata": {},
   "outputs": [
    {
     "name": "stdout",
     "output_type": "stream",
     "text": [
      "                   Name                                            Address  \\\n",
      "0                 IUPUI        415 Porto Alegre St, Indianapolis, IN 46202   \n",
      "1        The Speak Easy     5255 Winthrop Ave #110, Indianapolis, IN 46220   \n",
      "2                zWORKS          85 E Cedar St #1502, Zionsville, IN 46077   \n",
      "3        Launch Fishers             12175 Visionary Way, Fishers, IN 46038   \n",
      "4  Industrious Mass Ave  350 Massachusetts Ave Suite 300, Indianapolis,...   \n",
      "\n",
      "        Type  \n",
      "0    Housing  \n",
      "1  Coworking  \n",
      "2  Coworking  \n",
      "3  Coworking  \n",
      "4  Coworking  \n"
     ]
    }
   ],
   "source": [
    "print(df.head())"
   ]
  },
  {
   "cell_type": "code",
   "execution_count": 5,
   "id": "cd64ea1a",
   "metadata": {},
   "outputs": [],
   "source": [
    "origin = df['Address'][0]\n",
    "df = df.drop(\"Type\", axis=1).drop(0).drop([6, 7, 8])"
   ]
  },
  {
   "cell_type": "code",
   "execution_count": 6,
   "id": "fef2bc38",
   "metadata": {},
   "outputs": [
    {
     "data": {
      "text/html": [
       "<div>\n",
       "<style scoped>\n",
       "    .dataframe tbody tr th:only-of-type {\n",
       "        vertical-align: middle;\n",
       "    }\n",
       "\n",
       "    .dataframe tbody tr th {\n",
       "        vertical-align: top;\n",
       "    }\n",
       "\n",
       "    .dataframe thead th {\n",
       "        text-align: right;\n",
       "    }\n",
       "</style>\n",
       "<table border=\"1\" class=\"dataframe\">\n",
       "  <thead>\n",
       "    <tr style=\"text-align: right;\">\n",
       "      <th></th>\n",
       "      <th>Name</th>\n",
       "      <th>Address</th>\n",
       "    </tr>\n",
       "  </thead>\n",
       "  <tbody>\n",
       "    <tr>\n",
       "      <th>1</th>\n",
       "      <td>The Speak Easy</td>\n",
       "      <td>5255 Winthrop Ave #110, Indianapolis, IN 46220</td>\n",
       "    </tr>\n",
       "    <tr>\n",
       "      <th>2</th>\n",
       "      <td>zWORKS</td>\n",
       "      <td>85 E Cedar St #1502, Zionsville, IN 46077</td>\n",
       "    </tr>\n",
       "    <tr>\n",
       "      <th>3</th>\n",
       "      <td>Launch Fishers</td>\n",
       "      <td>12175 Visionary Way, Fishers, IN 46038</td>\n",
       "    </tr>\n",
       "    <tr>\n",
       "      <th>4</th>\n",
       "      <td>Industrious Mass Ave</td>\n",
       "      <td>350 Massachusetts Ave Suite 300, Indianapolis,...</td>\n",
       "    </tr>\n",
       "    <tr>\n",
       "      <th>5</th>\n",
       "      <td>Launch Indy</td>\n",
       "      <td>525 S Meridian St, Indianapolis, IN 46225</td>\n",
       "    </tr>\n",
       "  </tbody>\n",
       "</table>\n",
       "</div>"
      ],
      "text/plain": [
       "                   Name                                            Address\n",
       "1        The Speak Easy     5255 Winthrop Ave #110, Indianapolis, IN 46220\n",
       "2                zWORKS          85 E Cedar St #1502, Zionsville, IN 46077\n",
       "3        Launch Fishers             12175 Visionary Way, Fishers, IN 46038\n",
       "4  Industrious Mass Ave  350 Massachusetts Ave Suite 300, Indianapolis,...\n",
       "5           Launch Indy          525 S Meridian St, Indianapolis, IN 46225"
      ]
     },
     "execution_count": 6,
     "metadata": {},
     "output_type": "execute_result"
    }
   ],
   "source": [
    "df.head()"
   ]
  },
  {
   "cell_type": "code",
   "execution_count": 7,
   "id": "2032244c",
   "metadata": {},
   "outputs": [
    {
     "name": "stdout",
     "output_type": "stream",
     "text": [
      "enter the maps api key: \n"
     ]
    }
   ],
   "source": [
    "MAPS_API_KEY = input(\"enter the maps api key: \")\n",
    "res = [] \n",
    "for i in df['Address']:\n",
    "    url = f\"https://maps.googleapis.com/maps/api/distancematrix/json?origins={origin.replace(' ', '+')}&destinations={i.replace(' ', '+')}&key={MAPS_API_KEY}\"\n",
    "    response = requests.request(\"GET\", url, headers=headers, data=payload)\n",
    "    \n",
    "    res.append(response.json()[\"rows\"][0][\"elements\"][0][\"duration_in_traffic\"][\"value\"]) \n",
    "df['Housing'] = np.array(res)"
   ]
  },
  {
   "cell_type": "markdown",
   "id": "ec1b02c7",
   "metadata": {},
   "source": [
    "The output from the above cell is intentionally hidden in order to preserve API key secrecy."
   ]
  },
  {
   "cell_type": "code",
   "execution_count": 11,
   "id": "31e0dc62",
   "metadata": {},
   "outputs": [
    {
     "data": {
      "text/html": [
       "<div>\n",
       "<style scoped>\n",
       "    .dataframe tbody tr th:only-of-type {\n",
       "        vertical-align: middle;\n",
       "    }\n",
       "\n",
       "    .dataframe tbody tr th {\n",
       "        vertical-align: top;\n",
       "    }\n",
       "\n",
       "    .dataframe thead th {\n",
       "        text-align: right;\n",
       "    }\n",
       "</style>\n",
       "<table border=\"1\" class=\"dataframe\">\n",
       "  <thead>\n",
       "    <tr style=\"text-align: right;\">\n",
       "      <th></th>\n",
       "      <th>Name</th>\n",
       "      <th>Address</th>\n",
       "      <th>Housing</th>\n",
       "    </tr>\n",
       "  </thead>\n",
       "  <tbody>\n",
       "    <tr>\n",
       "      <th>1</th>\n",
       "      <td>The Speak Easy</td>\n",
       "      <td>5255 Winthrop Ave #110, Indianapolis, IN 46220</td>\n",
       "      <td>1020</td>\n",
       "    </tr>\n",
       "    <tr>\n",
       "      <th>2</th>\n",
       "      <td>zWORKS</td>\n",
       "      <td>85 E Cedar St #1502, Zionsville, IN 46077</td>\n",
       "      <td>1500</td>\n",
       "    </tr>\n",
       "    <tr>\n",
       "      <th>3</th>\n",
       "      <td>Launch Fishers</td>\n",
       "      <td>12175 Visionary Way, Fishers, IN 46038</td>\n",
       "      <td>1740</td>\n",
       "    </tr>\n",
       "    <tr>\n",
       "      <th>4</th>\n",
       "      <td>Industrious Mass Ave</td>\n",
       "      <td>350 Massachusetts Ave Suite 300, Indianapolis,...</td>\n",
       "      <td>420</td>\n",
       "    </tr>\n",
       "    <tr>\n",
       "      <th>5</th>\n",
       "      <td>Launch Indy</td>\n",
       "      <td>525 S Meridian St, Indianapolis, IN 46225</td>\n",
       "      <td>480</td>\n",
       "    </tr>\n",
       "  </tbody>\n",
       "</table>\n",
       "</div>"
      ],
      "text/plain": [
       "                   Name                                            Address  \\\n",
       "1        The Speak Easy     5255 Winthrop Ave #110, Indianapolis, IN 46220   \n",
       "2                zWORKS          85 E Cedar St #1502, Zionsville, IN 46077   \n",
       "3        Launch Fishers             12175 Visionary Way, Fishers, IN 46038   \n",
       "4  Industrious Mass Ave  350 Massachusetts Ave Suite 300, Indianapolis,...   \n",
       "5           Launch Indy          525 S Meridian St, Indianapolis, IN 46225   \n",
       "\n",
       "   Housing  \n",
       "1     1020  \n",
       "2     1500  \n",
       "3     1740  \n",
       "4      420  \n",
       "5      480  "
      ]
     },
     "execution_count": 11,
     "metadata": {},
     "output_type": "execute_result"
    }
   ],
   "source": [
    "df.head() "
   ]
  },
  {
   "cell_type": "code",
   "execution_count": 13,
   "id": "18e3ad95",
   "metadata": {},
   "outputs": [],
   "source": [
    "## A smaller number represents higher incentive\n",
    "def cost_incentive(xi, xmax):\n",
    "    res = xi / xmax \n",
    "    if (res < 0.2 or res > 0.8):\n",
    "        return res + 0.4\n",
    "    else:\n",
    "        return res"
   ]
  },
  {
   "cell_type": "markdown",
   "id": "2eb77418",
   "metadata": {},
   "source": [
    "We define the `cost_incentive` function to map a bell-curve of user incentive to attend an event based on its price. Since values are StandardScaled between [0 -> 1], we add a weight of `0.4` if values exceed hardcoded defined thresholds. \n",
    "\n",
    "We crucially define the bell curve for events with a low cost because individuals perceive value with cost - something that is too cheap may be interpreted as not something worth their time, and they are less incentvised to attend the event."
   ]
  },
  {
   "cell_type": "code",
   "execution_count": 53,
   "id": "f10fb36d",
   "metadata": {},
   "outputs": [],
   "source": [
    "## Eventbrite's Location Search API was deprecated as of Dec 2019.\n",
    "# Therefore, temporarily hardcoded information for events around Indianapolis :/\n",
    "\n",
    "# Address, Frequency, Cost, Event, Date\n",
    "events = [[\"Taps and Dolls, 247 S Meridian St, Indianapolis, IN 46225\", 1, 10, \"Illusions The Drag Queen Show Indianapolis - Drag Queen Dinner Show\", \"05-07-2022\"],\n",
    "         [\"Sullivan's Steakhouse, 3316 E 86th St, Indianapolis, IN 46240\", 1, 0, \"Hippie Fest\", \"05-28-2022\"],\n",
    "         [\"3009 Forest Manor Ave, Indianapolis, IN 46218\", 1, 0, \"One Team Scavenger Hunt Indianapolis\", \"05-01-2022\"],\n",
    "         [\"The Vogue, 6259 N College Ave, Indianapolis, IN 46220\", 1, 30, \"Lari Pati\", \"05-11-2022\"],\n",
    "         [\"The Vogue, 6259 N College Ave, Indianapolis, IN 46220\", 1, 30, \"Red Not Chilli Peppers\", \"05-17-2022\"],\n",
    "         [\"Paramount Cottage Home, 1203 E St Clair St, Indianapolis, IN 46202\", 1, 125, \"Coffee with the Curator 2022\", \"05-13-2022\"],\n",
    "         [\"Nexus Impact Center, second floor, west entrance, 9511 Angola Ct UNIT 200, Indianapolis, IN 46268\", 1, 0, \"Eric Johnson Treasure Tour\", \"05-23-2022\"],\n",
    "         [\"REI Central Park, 301 N Illinois St B, Indianapolis, IN 46204\", 1, 20, \"Emily Warrick and Music\", \"05-31-2022\"],\n",
    "         [\"2550 Hadley Grove S Dr, Carmel, IN 46074\", 1, 98, \"Big Data and Hadoop Training\", \"06-14-2022\"], \n",
    "         [\"Indianapolis Motor Speedway, Indianapolis, IN\", 1, 175, \"Indianapolis Racing Award Ceremony\", \"06-22-2022\"],\n",
    "         [\"A Cut Above | Catering | Classes | Events, 12955 Old Meridian St UNIT 104, Carmel, IN 46032\", 1, 100, \"Pottery Class\", \"06-28-2022\"]]"
   ]
  },
  {
   "cell_type": "code",
   "execution_count": 54,
   "id": "94d75340",
   "metadata": {
    "scrolled": true
   },
   "outputs": [
    {
     "data": {
      "text/html": [
       "<div>\n",
       "<style scoped>\n",
       "    .dataframe tbody tr th:only-of-type {\n",
       "        vertical-align: middle;\n",
       "    }\n",
       "\n",
       "    .dataframe tbody tr th {\n",
       "        vertical-align: top;\n",
       "    }\n",
       "\n",
       "    .dataframe thead th {\n",
       "        text-align: right;\n",
       "    }\n",
       "</style>\n",
       "<table border=\"1\" class=\"dataframe\">\n",
       "  <thead>\n",
       "    <tr style=\"text-align: right;\">\n",
       "      <th></th>\n",
       "      <th>0</th>\n",
       "      <th>1</th>\n",
       "      <th>2</th>\n",
       "      <th>3</th>\n",
       "      <th>4</th>\n",
       "    </tr>\n",
       "  </thead>\n",
       "  <tbody>\n",
       "    <tr>\n",
       "      <th>0</th>\n",
       "      <td>Taps and Dolls, 247 S Meridian St, Indianapoli...</td>\n",
       "      <td>1</td>\n",
       "      <td>10</td>\n",
       "      <td>Illusions The Drag Queen Show Indianapolis - D...</td>\n",
       "      <td>05-07-2022</td>\n",
       "    </tr>\n",
       "    <tr>\n",
       "      <th>1</th>\n",
       "      <td>Sullivan's Steakhouse, 3316 E 86th St, Indiana...</td>\n",
       "      <td>1</td>\n",
       "      <td>0</td>\n",
       "      <td>Hippie Fest</td>\n",
       "      <td>05-28-2022</td>\n",
       "    </tr>\n",
       "    <tr>\n",
       "      <th>2</th>\n",
       "      <td>3009 Forest Manor Ave, Indianapolis, IN 46218</td>\n",
       "      <td>1</td>\n",
       "      <td>0</td>\n",
       "      <td>One Team Scavenger Hunt Indianapolis</td>\n",
       "      <td>05-01-2022</td>\n",
       "    </tr>\n",
       "    <tr>\n",
       "      <th>3</th>\n",
       "      <td>The Vogue, 6259 N College Ave, Indianapolis, I...</td>\n",
       "      <td>1</td>\n",
       "      <td>30</td>\n",
       "      <td>Lari Pati</td>\n",
       "      <td>05-11-2022</td>\n",
       "    </tr>\n",
       "    <tr>\n",
       "      <th>4</th>\n",
       "      <td>The Vogue, 6259 N College Ave, Indianapolis, I...</td>\n",
       "      <td>1</td>\n",
       "      <td>30</td>\n",
       "      <td>Red Not Chilli Peppers</td>\n",
       "      <td>05-17-2022</td>\n",
       "    </tr>\n",
       "    <tr>\n",
       "      <th>5</th>\n",
       "      <td>Paramount Cottage Home, 1203 E St Clair St, In...</td>\n",
       "      <td>1</td>\n",
       "      <td>125</td>\n",
       "      <td>Coffee with the Curator 2022</td>\n",
       "      <td>05-13-2022</td>\n",
       "    </tr>\n",
       "    <tr>\n",
       "      <th>6</th>\n",
       "      <td>Nexus Impact Center, second floor, west entran...</td>\n",
       "      <td>1</td>\n",
       "      <td>0</td>\n",
       "      <td>Eric Johnson Treasure Tour</td>\n",
       "      <td>05-23-2022</td>\n",
       "    </tr>\n",
       "    <tr>\n",
       "      <th>7</th>\n",
       "      <td>REI Central Park, 301 N Illinois St B, Indiana...</td>\n",
       "      <td>1</td>\n",
       "      <td>20</td>\n",
       "      <td>Emily Warrick and Music</td>\n",
       "      <td>05-31-2022</td>\n",
       "    </tr>\n",
       "    <tr>\n",
       "      <th>8</th>\n",
       "      <td>2550 Hadley Grove S Dr, Carmel, IN 46074</td>\n",
       "      <td>1</td>\n",
       "      <td>98</td>\n",
       "      <td>Big Data and Hadoop Training</td>\n",
       "      <td>06-14-2022</td>\n",
       "    </tr>\n",
       "    <tr>\n",
       "      <th>9</th>\n",
       "      <td>Indianapolis Motor Speedway, Indianapolis, IN</td>\n",
       "      <td>1</td>\n",
       "      <td>175</td>\n",
       "      <td>Indianapolis Racing Award Ceremony</td>\n",
       "      <td>06-22-2022</td>\n",
       "    </tr>\n",
       "    <tr>\n",
       "      <th>10</th>\n",
       "      <td>A Cut Above | Catering | Classes | Events, 129...</td>\n",
       "      <td>1</td>\n",
       "      <td>100</td>\n",
       "      <td>Pottery Class</td>\n",
       "      <td>06-28-2022</td>\n",
       "    </tr>\n",
       "  </tbody>\n",
       "</table>\n",
       "</div>"
      ],
      "text/plain": [
       "                                                    0  1    2  \\\n",
       "0   Taps and Dolls, 247 S Meridian St, Indianapoli...  1   10   \n",
       "1   Sullivan's Steakhouse, 3316 E 86th St, Indiana...  1    0   \n",
       "2       3009 Forest Manor Ave, Indianapolis, IN 46218  1    0   \n",
       "3   The Vogue, 6259 N College Ave, Indianapolis, I...  1   30   \n",
       "4   The Vogue, 6259 N College Ave, Indianapolis, I...  1   30   \n",
       "5   Paramount Cottage Home, 1203 E St Clair St, In...  1  125   \n",
       "6   Nexus Impact Center, second floor, west entran...  1    0   \n",
       "7   REI Central Park, 301 N Illinois St B, Indiana...  1   20   \n",
       "8            2550 Hadley Grove S Dr, Carmel, IN 46074  1   98   \n",
       "9       Indianapolis Motor Speedway, Indianapolis, IN  1  175   \n",
       "10  A Cut Above | Catering | Classes | Events, 129...  1  100   \n",
       "\n",
       "                                                    3           4  \n",
       "0   Illusions The Drag Queen Show Indianapolis - D...  05-07-2022  \n",
       "1                                         Hippie Fest  05-28-2022  \n",
       "2                One Team Scavenger Hunt Indianapolis  05-01-2022  \n",
       "3                                           Lari Pati  05-11-2022  \n",
       "4                              Red Not Chilli Peppers  05-17-2022  \n",
       "5                        Coffee with the Curator 2022  05-13-2022  \n",
       "6                          Eric Johnson Treasure Tour  05-23-2022  \n",
       "7                             Emily Warrick and Music  05-31-2022  \n",
       "8                        Big Data and Hadoop Training  06-14-2022  \n",
       "9                  Indianapolis Racing Award Ceremony  06-22-2022  \n",
       "10                                      Pottery Class  06-28-2022  "
      ]
     },
     "execution_count": 54,
     "metadata": {},
     "output_type": "execute_result"
    }
   ],
   "source": [
    "pd.DataFrame(events)"
   ]
  },
  {
   "cell_type": "markdown",
   "id": "2347733b",
   "metadata": {},
   "source": [
    "The above cell presents the sample 10-week activities plan for potential events to attend during the internship period."
   ]
  },
  {
   "cell_type": "code",
   "execution_count": null,
   "id": "4dbf18eb",
   "metadata": {
    "scrolled": true
   },
   "outputs": [],
   "source": [
    "res = [] \n",
    "for enum, i in enumerate(events):\n",
    "    for j in df['Address']:\n",
    "        url = f\"https://maps.googleapis.com/maps/api/distancematrix/json?origins={j.replace(' ', '+')}&destinations={i[0].replace(' ', '+')}&key={MAPS_API_KEY}\"\n",
    "        response = requests.request(\"GET\", url, headers=headers, data=payload)\n",
    "        score = response.json()[\"rows\"][0][\"elements\"][0][\"duration_in_traffic\"][\"value\"] * ((70 - i[1]) / 70) * cost_incentive(i[2], 175)\n",
    "\n",
    "        res.append(score)\n",
    "    df[f'EVENT_{enum}'] = np.array(res)"
   ]
  },
  {
   "cell_type": "markdown",
   "id": "8066af4a",
   "metadata": {},
   "source": [
    "The output from the above cell is intentionally hidden in order to preserve API key secrecy."
   ]
  },
  {
   "cell_type": "code",
   "execution_count": 36,
   "id": "3d527651",
   "metadata": {},
   "outputs": [],
   "source": [
    "t = []\n",
    "for j in df[f'Housing']:\n",
    "    t.append(j * (20 / 70))\n",
    "df[f'Housing'] = np.array(t)"
   ]
  },
  {
   "cell_type": "markdown",
   "id": "521bb749",
   "metadata": {},
   "source": [
    "The scores are computed as a function of the `cost_incentive` as previously described as well as the frequency within which the trip is made. Therefore, housing is given a greater weightage than any of the events, as they are singular instances, while travelling from home to work is recurring."
   ]
  },
  {
   "cell_type": "code",
   "execution_count": 37,
   "id": "2e74d413",
   "metadata": {
    "scrolled": true
   },
   "outputs": [
    {
     "data": {
      "text/html": [
       "<div>\n",
       "<style scoped>\n",
       "    .dataframe tbody tr th:only-of-type {\n",
       "        vertical-align: middle;\n",
       "    }\n",
       "\n",
       "    .dataframe tbody tr th {\n",
       "        vertical-align: top;\n",
       "    }\n",
       "\n",
       "    .dataframe thead th {\n",
       "        text-align: right;\n",
       "    }\n",
       "</style>\n",
       "<table border=\"1\" class=\"dataframe\">\n",
       "  <thead>\n",
       "    <tr style=\"text-align: right;\">\n",
       "      <th></th>\n",
       "      <th>Name</th>\n",
       "      <th>Address</th>\n",
       "      <th>Housing</th>\n",
       "      <th>EVENT_0</th>\n",
       "      <th>EVENT_1</th>\n",
       "      <th>EVENT_2</th>\n",
       "      <th>EVENT_3</th>\n",
       "      <th>EVENT_4</th>\n",
       "      <th>EVENT_5</th>\n",
       "      <th>EVENT_6</th>\n",
       "      <th>EVENT_7</th>\n",
       "      <th>EVENT_8</th>\n",
       "      <th>EVENT_9</th>\n",
       "      <th>EVENT_10</th>\n",
       "    </tr>\n",
       "  </thead>\n",
       "  <tbody>\n",
       "    <tr>\n",
       "      <th>1</th>\n",
       "      <td>The Speak Easy</td>\n",
       "      <td>5255 Winthrop Ave #110, Indianapolis, IN 46220</td>\n",
       "      <td>291.428571</td>\n",
       "      <td>405.551020</td>\n",
       "      <td>307.542857</td>\n",
       "      <td>236.571429</td>\n",
       "      <td>168.979592</td>\n",
       "      <td>168.979592</td>\n",
       "      <td>549.183673</td>\n",
       "      <td>449.485714</td>\n",
       "      <td>456.244898</td>\n",
       "      <td>695.52</td>\n",
       "      <td>1407.6</td>\n",
       "      <td>608.326531</td>\n",
       "    </tr>\n",
       "    <tr>\n",
       "      <th>2</th>\n",
       "      <td>zWORKS</td>\n",
       "      <td>85 E Cedar St #1502, Zionsville, IN 46077</td>\n",
       "      <td>428.571429</td>\n",
       "      <td>757.028571</td>\n",
       "      <td>425.828571</td>\n",
       "      <td>686.057143</td>\n",
       "      <td>709.714286</td>\n",
       "      <td>709.714286</td>\n",
       "      <td>1225.102041</td>\n",
       "      <td>189.257143</td>\n",
       "      <td>821.240816</td>\n",
       "      <td>331.20</td>\n",
       "      <td>1821.6</td>\n",
       "      <td>540.734694</td>\n",
       "    </tr>\n",
       "    <tr>\n",
       "      <th>3</th>\n",
       "      <td>Launch Fishers</td>\n",
       "      <td>12175 Visionary Way, Fishers, IN 46038</td>\n",
       "      <td>497.142857</td>\n",
       "      <td>757.028571</td>\n",
       "      <td>378.514286</td>\n",
       "      <td>520.457143</td>\n",
       "      <td>709.714286</td>\n",
       "      <td>709.714286</td>\n",
       "      <td>1098.367347</td>\n",
       "      <td>473.142857</td>\n",
       "      <td>821.240816</td>\n",
       "      <td>761.76</td>\n",
       "      <td>2732.4</td>\n",
       "      <td>709.714286</td>\n",
       "    </tr>\n",
       "    <tr>\n",
       "      <th>4</th>\n",
       "      <td>Industrious Mass Ave</td>\n",
       "      <td>350 Massachusetts Ave Suite 300, Indianapolis,...</td>\n",
       "      <td>120.000000</td>\n",
       "      <td>108.146939</td>\n",
       "      <td>591.428571</td>\n",
       "      <td>260.228571</td>\n",
       "      <td>540.734694</td>\n",
       "      <td>540.734694</td>\n",
       "      <td>168.979592</td>\n",
       "      <td>520.457143</td>\n",
       "      <td>91.248980</td>\n",
       "      <td>960.48</td>\n",
       "      <td>910.8</td>\n",
       "      <td>912.489796</td>\n",
       "    </tr>\n",
       "    <tr>\n",
       "      <th>5</th>\n",
       "      <td>Launch Indy</td>\n",
       "      <td>525 S Meridian St, Indianapolis, IN 46225</td>\n",
       "      <td>137.142857</td>\n",
       "      <td>27.036735</td>\n",
       "      <td>662.400000</td>\n",
       "      <td>331.200000</td>\n",
       "      <td>675.918367</td>\n",
       "      <td>675.918367</td>\n",
       "      <td>380.204082</td>\n",
       "      <td>567.771429</td>\n",
       "      <td>91.248980</td>\n",
       "      <td>1026.72</td>\n",
       "      <td>1076.4</td>\n",
       "      <td>1013.877551</td>\n",
       "    </tr>\n",
       "  </tbody>\n",
       "</table>\n",
       "</div>"
      ],
      "text/plain": [
       "                   Name                                            Address  \\\n",
       "1        The Speak Easy     5255 Winthrop Ave #110, Indianapolis, IN 46220   \n",
       "2                zWORKS          85 E Cedar St #1502, Zionsville, IN 46077   \n",
       "3        Launch Fishers             12175 Visionary Way, Fishers, IN 46038   \n",
       "4  Industrious Mass Ave  350 Massachusetts Ave Suite 300, Indianapolis,...   \n",
       "5           Launch Indy          525 S Meridian St, Indianapolis, IN 46225   \n",
       "\n",
       "      Housing     EVENT_0     EVENT_1     EVENT_2     EVENT_3     EVENT_4  \\\n",
       "1  291.428571  405.551020  307.542857  236.571429  168.979592  168.979592   \n",
       "2  428.571429  757.028571  425.828571  686.057143  709.714286  709.714286   \n",
       "3  497.142857  757.028571  378.514286  520.457143  709.714286  709.714286   \n",
       "4  120.000000  108.146939  591.428571  260.228571  540.734694  540.734694   \n",
       "5  137.142857   27.036735  662.400000  331.200000  675.918367  675.918367   \n",
       "\n",
       "       EVENT_5     EVENT_6     EVENT_7  EVENT_8  EVENT_9     EVENT_10  \n",
       "1   549.183673  449.485714  456.244898   695.52   1407.6   608.326531  \n",
       "2  1225.102041  189.257143  821.240816   331.20   1821.6   540.734694  \n",
       "3  1098.367347  473.142857  821.240816   761.76   2732.4   709.714286  \n",
       "4   168.979592  520.457143   91.248980   960.48    910.8   912.489796  \n",
       "5   380.204082  567.771429   91.248980  1026.72   1076.4  1013.877551  "
      ]
     },
     "execution_count": 37,
     "metadata": {},
     "output_type": "execute_result"
    }
   ],
   "source": [
    "df.head()"
   ]
  },
  {
   "cell_type": "code",
   "execution_count": 56,
   "id": "7e9a3044",
   "metadata": {},
   "outputs": [],
   "source": [
    "df.to_csv(str(BASE_DIR) + '/data/processed/xtern.csv', index=False)"
   ]
  },
  {
   "cell_type": "markdown",
   "id": "a82ec1b1",
   "metadata": {},
   "source": [
    "## Modelling"
   ]
  },
  {
   "cell_type": "code",
   "execution_count": 50,
   "id": "17b4960d",
   "metadata": {
    "scrolled": true
   },
   "outputs": [
    {
     "name": "stdout",
     "output_type": "stream",
     "text": [
      "Estimated number of clusters: 5\n"
     ]
    }
   ],
   "source": [
    "X = np.array(df.drop([\"Name\", \"Address\"], axis=1))\n",
    "af = AffinityPropagation(preference=-50, random_state=0).fit(X)\n",
    "cluster_centers_indices = af.cluster_centers_indices_\n",
    "labels = af.labels_\n",
    "\n",
    "n_clusters_ = len(cluster_centers_indices)\n",
    "\n",
    "print('Estimated number of clusters: %d' % n_clusters_)"
   ]
  },
  {
   "cell_type": "markdown",
   "id": "57369b80",
   "metadata": {},
   "source": [
    "## Visualization"
   ]
  },
  {
   "cell_type": "code",
   "execution_count": 51,
   "id": "5f569b10",
   "metadata": {
    "scrolled": false
   },
   "outputs": [
    {
     "data": {
      "image/png": "[encoded data removed]",
      "text/plain": [
       "<Figure size 432x288 with 1 Axes>"
      ]
     },
     "metadata": {
      "needs_background": "light"
     },
     "output_type": "display_data"
    }
   ],
   "source": [
    "plt.close('all')\n",
    "plt.figure(1)\n",
    "plt.clf()\n",
    "\n",
    "colors = cycle('bgrcmykbgrcmykbgrcmykbgrcmyk')\n",
    "for k, col in zip(range(n_clusters_), colors):\n",
    "    class_members = labels == k\n",
    "    cluster_center = X[cluster_centers_indices[k]]\n",
    "    plt.plot(X[class_members, 0], X[class_members, 1], col + '.')\n",
    "    plt.plot(cluster_center[0], cluster_center[1], 'o', markerfacecolor=col,\n",
    "             markeredgecolor='k', markersize=14)\n",
    "    for x in X[class_members]:\n",
    "        plt.plot([cluster_center[0], x[0]], [cluster_center[1], x[1]], col)\n",
    "\n",
    "plt.title('Estimated number of clusters: %d' % n_clusters_)\n",
    "plt.show()"
   ]
  },
  {
   "cell_type": "markdown",
   "id": "3ed555f8",
   "metadata": {},
   "source": [
    "The plotted points closest to the origin represent the optimal locations for co-working spaces. Reading the label map, Industrious Mass Ave is the ideal location for hosting the in-person workign environment."
   ]
  },
  {
   "cell_type": "markdown",
   "id": "7112b6ab",
   "metadata": {},
   "source": [
    "## Model Saving"
   ]
  },
  {
   "cell_type": "code",
   "execution_count": 52,
   "id": "cb8971b8",
   "metadata": {},
   "outputs": [
    {
     "data": {
      "text/plain": [
       "['affinity.joblib']"
      ]
     },
     "execution_count": 52,
     "metadata": {},
     "output_type": "execute_result"
    }
   ],
   "source": [
    "from joblib import dump, load\n",
    "dump(af, 'affinity.joblib') ## saved in the models/ directory in the github repository!"
   ]
  }
 ],
 "metadata": {
  "kernelspec": {
   "display_name": "tensorflow",
   "language": "python",
   "name": "tensorflow"
  },
  "language_info": {
   "codemirror_mode": {
    "name": "ipython",
    "version": 3
   },
   "file_extension": ".py",
   "mimetype": "text/x-python",
   "name": "python",
   "nbconvert_exporter": "python",
   "pygments_lexer": "ipython3",
   "version": "3.9.7"
  }
 },
 "nbformat": 4,
 "nbformat_minor": 5
}
